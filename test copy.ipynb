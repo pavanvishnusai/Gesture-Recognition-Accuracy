{
 "cells": [
  {
   "cell_type": "code",
   "execution_count": null,
   "metadata": {},
   "outputs": [],
   "source": [
    "import numpy as np\n",
    "import tensorflow as tf\n",
    "from skimage.transform import resize\n",
    "\n",
    "def load_test_data():\n",
    "    data = np.load('data_test.npy')  # Replace with your test data file\n",
    "    labels = np.load('labels_test.npy')  # Replace with your test labels file\n",
    "\n",
    "    # Replicating the same preprocessing as in the training script\n",
    "    data_reshaped = data.T.reshape((-1, 300, 300, 3))\n",
    "    resized_data = np.array([resize(img, (100, 100, 3), anti_aliasing=True) for img in data_reshaped])\n",
    "    \n",
    "    if resized_data.max() > 1.0:\n",
    "        data_normalized = resized_data.astype(np.float32) / 255.0\n",
    "    else:\n",
    "        data_normalized = resized_data\n",
    "\n",
    "    return data_normalized, labels\n",
    "\n",
    "def test(model, test_data, test_labels):\n",
    "    loss, accuracy = model.evaluate(test_data, test_labels)\n",
    "    predictions = model.predict(test_data)\n",
    "    predicted_labels = np.argmax(predictions, axis=1)\n",
    "    return accuracy, predicted_labels\n",
    "\n",
    "if __name__ == \"__main__\":\n",
    "    test_data, test_labels = load_test_data()\n",
    "    model = tf.keras.models.load_model('final_model.h5')\n",
    "    accuracy, predicted_labels = test(model, test_data, test_labels)\n",
    "\n",
    "    print(f\"Test Accuracy: {accuracy}\")\n",
    "\n",
    "    # Print all predicted labels side by side\n",
    "    print(\"All Predicted Labels:\")\n",
    "    print(' , '.join(map(str, predicted_labels)))\n",
    "    \n",
    "    # Option 2: Save the predicted labels to a file\n",
    "    # np.savetxt(\"predicted_labels.txt\", predicted_labels, fmt=\"%d\")"
   ]
  }
 ],
 "metadata": {
  "language_info": {
   "name": "python"
  }
 },
 "nbformat": 4,
 "nbformat_minor": 2
}
